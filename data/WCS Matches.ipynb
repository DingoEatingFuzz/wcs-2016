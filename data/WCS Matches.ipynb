{
 "cells": [
  {
   "cell_type": "code",
   "execution_count": null,
   "metadata": {
    "collapsed": false
   },
   "outputs": [],
   "source": [
    "# Friends don't let friends share api keys\n",
    "import os\n",
    "APIKEY = os.environ['ALIGULAC_KEY']\n",
    "APIKEY"
   ]
  },
  {
   "cell_type": "code",
   "execution_count": null,
   "metadata": {
    "collapsed": true
   },
   "outputs": [],
   "source": [
    "import json\n",
    "from urllib import request\n",
    "\n",
    "API = 'http://aligulac.com/api/v1/'\n",
    "DOMAIN = 'http://aligulac.com'\n",
    "\n",
    "def fetch(path, qps = {}, silent=False):\n",
    "    url = '{}{}?apikey={}&format=json'.format(API, path, APIKEY)\n",
    "    if len(qps):\n",
    "        url += '&' + '&'.join(( '{}={}'.format(key, qps[key]) for key in qps ))\n",
    "    if not silent:\n",
    "        print('---fetching: %s' % url)\n",
    "    return json.loads(request.urlopen(url).read().decode('utf-8'))\n",
    "\n",
    "def fetch_raw(url, qps = (), silent=False):\n",
    "    if '?' not in url:\n",
    "        initial_separator = '?'\n",
    "    else:\n",
    "        initial_separator = '&'\n",
    "    full_url = '{}{}{}apikey={}&format=json'.format(DOMAIN, url, initial_separator, APIKEY)\n",
    "    if len(qps):\n",
    "        url += '&' + '&'.join(( '{}={}'.format(key, qps[key]) for key in qps ))\n",
    "    if not silent:\n",
    "        print('---fetching: %s' % full_url)\n",
    "    return json.loads(request.urlopen(full_url).read().decode('utf-8'))"
   ]
  },
  {
   "cell_type": "code",
   "execution_count": null,
   "metadata": {
    "collapsed": false
   },
   "outputs": [],
   "source": [
    "with open('events.json') as f:    \n",
    "    all_events = json.load(f)\n",
    "all_events"
   ]
  },
  {
   "cell_type": "code",
   "execution_count": null,
   "metadata": {
    "collapsed": false,
    "scrolled": true
   },
   "outputs": [],
   "source": [
    "all_matches = [ fetch('match', { 'eventobj__uplink__parent': event['id'], 'limit': 128 }) for event in all_events ]"
   ]
  },
  {
   "cell_type": "code",
   "execution_count": null,
   "metadata": {
    "collapsed": false
   },
   "outputs": [],
   "source": [
    "import pandas as pd\n",
    "import numpy as np\n",
    "\n",
    "for matches in all_matches:\n",
    "    print('%d matches' % matches['meta']['total_count'])\n",
    "    for m in matches['objects']:\n",
    "        m['event_id'] = m['eventobj']['id']\n",
    "        m['event_name'] = m['eventobj']['fullname']\n",
    "        m['pla_id'] = m['pla']['id']\n",
    "        m['pla_name'] = m['pla']['tag']\n",
    "        m['plb_id'] = m['plb']['id']\n",
    "        m['plb_name'] = m['plb']['tag']\n",
    "\n",
    "match_objects = [ m['objects'] for m in all_matches ]\n",
    "flattened_matches = [item for sublist in match_objects for item in sublist]\n",
    "\n",
    "matches_pd = pd.read_json(json.dumps(flattened_matches))\n",
    "matches_pd.head()"
   ]
  },
  {
   "cell_type": "code",
   "execution_count": null,
   "metadata": {
    "collapsed": false,
    "scrolled": true
   },
   "outputs": [],
   "source": [
    "matches_pd[[ 'id', 'date', 'offline', 'event_id', 'event_name', 'pla_id', 'pla_name', 'rca', 'plb_id', 'plb_name', 'rcb', 'sca', 'scb' ]]"
   ]
  },
  {
   "cell_type": "code",
   "execution_count": null,
   "metadata": {
    "collapsed": true
   },
   "outputs": [],
   "source": [
    "filtered_matches = matches_pd[[ 'id', 'date', 'offline', 'event_id', 'pla_id', 'rca', 'plb_id', 'rcb', 'sca', 'scb' ]]\n",
    "matches_json = filtered_matches.to_json(orient='records')\n"
   ]
  },
  {
   "cell_type": "code",
   "execution_count": null,
   "metadata": {
    "collapsed": true
   },
   "outputs": [],
   "source": [
    "with open('matches.json', 'w') as f:\n",
    "    f.write(json.dumps(json.loads(matches_json), indent=2))"
   ]
  },
  {
   "cell_type": "code",
   "execution_count": null,
   "metadata": {
    "collapsed": true
   },
   "outputs": [],
   "source": []
  }
 ],
 "metadata": {
  "kernelspec": {
   "display_name": "Python [Root]",
   "language": "python",
   "name": "Python [Root]"
  },
  "language_info": {
   "codemirror_mode": {
    "name": "ipython",
    "version": 3
   },
   "file_extension": ".py",
   "mimetype": "text/x-python",
   "name": "python",
   "nbconvert_exporter": "python",
   "pygments_lexer": "ipython3",
   "version": "3.5.2"
  }
 },
 "nbformat": 4,
 "nbformat_minor": 0
}
