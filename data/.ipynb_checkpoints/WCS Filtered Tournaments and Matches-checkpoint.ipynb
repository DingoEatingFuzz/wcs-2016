{
 "cells": [
  {
   "cell_type": "code",
   "execution_count": null,
   "metadata": {
    "collapsed": false
   },
   "outputs": [],
   "source": [
    "import json\n",
    "\n",
    "with open('events.json') as f:    \n",
    "    events = json.load(f)\n",
    "with open('matches.json') as f:\n",
    "    matches = json.load(f)\n",
    "with open('players.json') as f:\n",
    "    players = json.load(f)"
   ]
  },
  {
   "cell_type": "code",
   "execution_count": null,
   "metadata": {
    "collapsed": false
   },
   "outputs": [],
   "source": [
    "print('All matches: %d' % len(matches))\n",
    "print('All events: %d' % len(events))"
   ]
  },
  {
   "cell_type": "code",
   "execution_count": null,
   "metadata": {
    "collapsed": false
   },
   "outputs": [],
   "source": [
    "blizzcon_player_ids = [player['id'] for player in players if player['finalist']]\n",
    "filtered_matches = [match for match in matches if match['pla_id'] in blizzcon_player_ids or match['plb_id'] in blizzcon_player_ids]\n",
    "len(filtered_matches)"
   ]
  },
  {
   "cell_type": "code",
   "execution_count": null,
   "metadata": {
    "collapsed": false
   },
   "outputs": [],
   "source": [
    "import pandas as pd\n",
    "import numpy as np\n",
    "\n",
    "filtered_event_ids = set([match['event_id'] for match in filtered_matches])\n",
    "pd_events = pd.read_json(json.dumps(events))\n",
    "filtered_events = pd_events[pd_events['id'].isin(filtered_event_ids)]\n",
    "filtered_events.count()"
   ]
  },
  {
   "cell_type": "code",
   "execution_count": null,
   "metadata": {
    "collapsed": true
   },
   "outputs": [],
   "source": [
    "with open('filtered_matches.json', 'w') as f:\n",
    "    f.write(json.dumps(filtered_matches, indent=2))\n",
    "with open('filtered_events.json', 'w') as f:\n",
    "    f.write(json.dumps(json.loads(filtered_events.to_json(orient='records')), indent=2))"
   ]
  },
  {
   "cell_type": "code",
   "execution_count": null,
   "metadata": {
    "collapsed": true
   },
   "outputs": [],
   "source": []
  }
 ],
 "metadata": {
  "anaconda-cloud": {},
  "kernelspec": {
   "display_name": "Python [Root]",
   "language": "python",
   "name": "Python [Root]"
  },
  "language_info": {
   "codemirror_mode": {
    "name": "ipython",
    "version": 3
   },
   "file_extension": ".py",
   "mimetype": "text/x-python",
   "name": "python",
   "nbconvert_exporter": "python",
   "pygments_lexer": "ipython3",
   "version": "3.5.2"
  }
 },
 "nbformat": 4,
 "nbformat_minor": 0
}
