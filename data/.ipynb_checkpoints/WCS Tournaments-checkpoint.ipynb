{
 "cells": [
  {
   "cell_type": "markdown",
   "metadata": {},
   "source": [
    "# All WCS Points Eligible Tournaments\n",
    "\n",
    "## Circuit\n",
    "\n",
    "- Winter Regional Challengers\n",
    "- Winter Championship\n",
    "- Spring Regional Challengers\n",
    "- Spring Championship\n",
    "- Summer Regional Challengers\n",
    "- Summer Championship\n",
    "- Dreamhack Leipzig\n",
    "- Gold Series International\n",
    "- Dreamhack Austin\n",
    "- Dreamhack Valencia\n",
    "- IEM XI - Shanghai\n",
    "- WCS Copa Intercontinental\n",
    "- KeSPA Cup\n",
    "\n",
    "## Korea\n",
    "\n",
    "- GSL Season 1\n",
    "- SSL Season 1\n",
    "- Season 1 Cross finals\n",
    "- GSL Season 2\n",
    "- SSL Season 2\n",
    "- Season 2 Cross finals\n",
    "- KeSPA Cup\n",
    "\n",
    "## Top-level Tournaments\n",
    "\n",
    "- WCS 2016 - 52397\n",
    "- GSL 2016 - 51442\n",
    "- SSL 2016 - 51644"
   ]
  },
  {
   "cell_type": "code",
   "execution_count": null,
   "metadata": {
    "collapsed": false
   },
   "outputs": [],
   "source": [
    "# Friends don't let friends share api keys\n",
    "import os\n",
    "APIKEY = os.environ['ALIGULAC_KEY']\n",
    "APIKEY"
   ]
  },
  {
   "cell_type": "code",
   "execution_count": null,
   "metadata": {
    "collapsed": false
   },
   "outputs": [],
   "source": [
    "import json\n",
    "from urllib import request\n",
    "\n",
    "API = 'http://aligulac.com/api/v1/'\n",
    "DOMAIN = 'http://aligulac.com'\n",
    "\n",
    "def fetch(path, qps = {}, silent=False):\n",
    "    url = '{}{}?apikey={}&format=json'.format(API, path, APIKEY)\n",
    "    if len(qps):\n",
    "        url += '&' + '&'.join(( '{}={}'.format(key, qps[key]) for key in qps ))\n",
    "    if not silent:\n",
    "        print('---fetching: %s' % url)\n",
    "    return json.loads(request.urlopen(url).read().decode('utf-8'))\n",
    "\n",
    "def fetch_raw(url, qps = (), silent=False):\n",
    "    if '?' not in url:\n",
    "        initial_separator = '?'\n",
    "    else:\n",
    "        initial_separator = '&'\n",
    "    full_url = '{}{}{}apikey={}&format=json'.format(DOMAIN, url, initial_separator, APIKEY)\n",
    "    if len(qps):\n",
    "        url += '&' + '&'.join(( '{}={}'.format(key, qps[key]) for key in qps ))\n",
    "    if not silent:\n",
    "        print('---fetching: %s' % full_url)\n",
    "    return json.loads(request.urlopen(full_url).read().decode('utf-8'))"
   ]
  },
  {
   "cell_type": "code",
   "execution_count": null,
   "metadata": {
    "collapsed": true
   },
   "outputs": [],
   "source": [
    "# These are the three top-level nodes for all matches with WCS Points\n",
    "event_ids = [\n",
    "    52397, # WCS 2016\n",
    "    51442, # GSL 2016\n",
    "    51644  # SSL 2016\n",
    "]"
   ]
  },
  {
   "cell_type": "code",
   "execution_count": null,
   "metadata": {
    "collapsed": false,
    "scrolled": true
   },
   "outputs": [],
   "source": [
    "import pandas as pd\n",
    "import numpy as np\n",
    "\n",
    "all_events = []\n",
    "\n",
    "def fetch_child_events(res):\n",
    "    children = res['children']\n",
    "    if len(children):\n",
    "        for child in children:\n",
    "            fetch_child_events(fetch_raw(child, {}, True))\n",
    "    else:\n",
    "        print(res['fullname'])\n",
    "        all_events.append(res)\n"
   ]
  },
  {
   "cell_type": "code",
   "execution_count": null,
   "metadata": {
    "collapsed": false
   },
   "outputs": [],
   "source": [
    "del all_events[:]\n",
    "print('just checking: %d' % len(all_events))\n",
    "for event in event_ids:\n",
    "    fetch_child_events(fetch('event/%s' % event, {}, True))"
   ]
  },
  {
   "cell_type": "code",
   "execution_count": null,
   "metadata": {
    "collapsed": false
   },
   "outputs": [],
   "source": [
    "for event in all_events:\n",
    "    event['parent_id'] = event['parent'].split('/')[-2]\n",
    "\n",
    "events_pd = pd.read_json(json.dumps(all_events))\n",
    "events_pd.head()"
   ]
  },
  {
   "cell_type": "code",
   "execution_count": null,
   "metadata": {
    "collapsed": false,
    "scrolled": true
   },
   "outputs": [],
   "source": [
    "filtered_events = events_pd[[ 'id', 'parent_id', 'earliest', 'latest', 'fullname', 'name' ]]\n",
    "events_json = filtered_events.to_json(orient='records')\n",
    "events_json"
   ]
  },
  {
   "cell_type": "code",
   "execution_count": null,
   "metadata": {
    "collapsed": false
   },
   "outputs": [],
   "source": [
    "with open('events.json', 'w') as f:\n",
    "    f.write(json.dumps(json.loads(events_json), indent=2))"
   ]
  },
  {
   "cell_type": "code",
   "execution_count": null,
   "metadata": {
    "collapsed": true
   },
   "outputs": [],
   "source": []
  }
 ],
 "metadata": {
  "anaconda-cloud": {},
  "kernelspec": {
   "display_name": "Python [Root]",
   "language": "python",
   "name": "Python [Root]"
  },
  "language_info": {
   "codemirror_mode": {
    "name": "ipython",
    "version": 3
   },
   "file_extension": ".py",
   "mimetype": "text/x-python",
   "name": "python",
   "nbconvert_exporter": "python",
   "pygments_lexer": "ipython3",
   "version": "3.5.2"
  }
 },
 "nbformat": 4,
 "nbformat_minor": 0
}
