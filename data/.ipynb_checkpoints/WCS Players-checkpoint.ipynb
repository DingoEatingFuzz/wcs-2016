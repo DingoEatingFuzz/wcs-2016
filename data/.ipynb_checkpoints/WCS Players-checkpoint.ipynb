{
 "cells": [
  {
   "cell_type": "code",
   "execution_count": null,
   "metadata": {
    "collapsed": false
   },
   "outputs": [],
   "source": [
    "# Friends don't let friends share api keys\n",
    "import os\n",
    "APIKEY = os.environ['ALIGULAC_KEY']\n",
    "APIKEY"
   ]
  },
  {
   "cell_type": "code",
   "execution_count": null,
   "metadata": {
    "collapsed": true
   },
   "outputs": [],
   "source": [
    "import json\n",
    "from urllib import request\n",
    "\n",
    "API = 'http://aligulac.com/api/v1/'\n",
    "\n",
    "def fetch(path, qps = {}):\n",
    "    url = '{}{}?apikey={}&format=json'.format(API, path, APIKEY)\n",
    "    if len(qps):\n",
    "        url += '&' + '&'.join(( '{}={}'.format(key, qps[key]) for key in qps ))\n",
    "    print('---fetching: %s' % url)\n",
    "    return json.loads(request.urlopen(url).read().decode('utf-8'))"
   ]
  },
  {
   "cell_type": "code",
   "execution_count": null,
   "metadata": {
    "collapsed": false
   },
   "outputs": [],
   "source": [
    "blizzcon_player_ids = [\n",
    "    76,   # Dark\n",
    "    1793, # Solar\n",
    "    47,   # Byun\n",
    "    1658, # Zest\n",
    "    63,   # TY\n",
    "    309,  # Stats\n",
    "    1659, # Dear\n",
    "    186,  # Classic\n",
    "    \n",
    "    19,   # Polt\n",
    "    2170, # ShoWTimE\n",
    "    4495, # Neeb\n",
    "    26,   # Nerchio\n",
    "    111,  # Snute\n",
    "    1557, # Hydra\n",
    "    422,  # TRUE\n",
    "    5847  # Elazer\n",
    "]"
   ]
  },
  {
   "cell_type": "code",
   "execution_count": null,
   "metadata": {
    "collapsed": true
   },
   "outputs": [],
   "source": [
    "player_ids = [] + blizzcon_player_ids"
   ]
  },
  {
   "cell_type": "code",
   "execution_count": null,
   "metadata": {
    "collapsed": false
   },
   "outputs": [],
   "source": [
    "import pandas as pd\n",
    "import numpy as np\n",
    "\n",
    "with open('matches.json') as f:    \n",
    "    matches = json.load(f)\n",
    "\n",
    "pd_matches = pd.read_json(json.dumps(matches))\n",
    "pd_matches.count()"
   ]
  },
  {
   "cell_type": "code",
   "execution_count": null,
   "metadata": {
    "collapsed": false,
    "scrolled": true
   },
   "outputs": [],
   "source": [
    "filtered_matches = pd_matches[pd_matches['pla_id'].isin(blizzcon_player_ids) | pd_matches['plb_id'].isin(blizzcon_player_ids)]\n",
    "for match in filtered_matches.itertuples():\n",
    "    player_ids.extend((match.pla_id, match.plb_id))\n",
    "                      \n",
    "player_ids = set(player_ids)\n",
    "len(player_ids)"
   ]
  },
  {
   "cell_type": "code",
   "execution_count": null,
   "metadata": {
    "collapsed": false
   },
   "outputs": [],
   "source": [
    "players = [ fetch('player/%s' % id) for id in player_ids ]"
   ]
  },
  {
   "cell_type": "code",
   "execution_count": null,
   "metadata": {
    "collapsed": false
   },
   "outputs": [],
   "source": [
    "for p in players:\n",
    "    if (len(p['current_teams'])):\n",
    "        p['team'] = p['current_teams'][0]['team']['name']\n",
    "        p['team_id'] = p['current_teams'][0]['team']['id']\n",
    "    else:\n",
    "        p['team'] = None\n",
    "        p['team_id'] = None\n",
    "    p['finalist'] = p['id'] in blizzcon_player_ids\n"
   ]
  },
  {
   "cell_type": "code",
   "execution_count": null,
   "metadata": {
    "collapsed": false,
    "scrolled": true
   },
   "outputs": [],
   "source": [
    "players_pd = pd.read_json(json.dumps(players))\n",
    "players_pd[['id', 'finalist', 'tag', 'name', 'romanized_name', 'country', 'race', 'total_earnings', 'team', 'team_id']]"
   ]
  },
  {
   "cell_type": "code",
   "execution_count": null,
   "metadata": {
    "collapsed": false
   },
   "outputs": [],
   "source": [
    "filtered_players = players_pd[['id', 'finalist', 'tag', 'name', 'romanized_name', 'country', 'race', 'total_earnings', 'team', 'team_id']]\n",
    "players_json = filtered_players.to_json(orient='records')\n",
    "players_json"
   ]
  },
  {
   "cell_type": "code",
   "execution_count": null,
   "metadata": {
    "collapsed": false
   },
   "outputs": [],
   "source": [
    "with open('players.json', 'w') as f:\n",
    "    f.write(json.dumps(json.loads(players_json), indent=2))"
   ]
  },
  {
   "cell_type": "code",
   "execution_count": null,
   "metadata": {
    "collapsed": true
   },
   "outputs": [],
   "source": []
  }
 ],
 "metadata": {
  "anaconda-cloud": {},
  "kernelspec": {
   "display_name": "Python [Root]",
   "language": "python",
   "name": "Python [Root]"
  },
  "language_info": {
   "codemirror_mode": {
    "name": "ipython",
    "version": 3
   },
   "file_extension": ".py",
   "mimetype": "text/x-python",
   "name": "python",
   "nbconvert_exporter": "python",
   "pygments_lexer": "ipython3",
   "version": "3.5.2"
  }
 },
 "nbformat": 4,
 "nbformat_minor": 0
}
